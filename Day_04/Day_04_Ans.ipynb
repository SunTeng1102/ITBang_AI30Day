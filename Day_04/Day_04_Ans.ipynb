{
 "cells": [
  {
   "cell_type": "markdown",
   "metadata": {},
   "source": [
    "DAY4 解答"
   ]
  },
  {
   "cell_type": "markdown",
   "metadata": {},
   "source": [
    "### 題目 1\n",
    "製作一個成績判斷小程式，使用者輸入名字與成績，若不及個顯示再加油!，若及格則顯示恭喜及格80以上顯示好棒，100顯示太棒了!"
   ]
  },
  {
   "cell_type": "code",
   "execution_count": null,
   "metadata": {},
   "outputs": [],
   "source": [
    "# 獲取使用者輸入的名字和成績\n",
    "name = input(\"請輸入你的名字：\")\n",
    "score = float(input(\"請輸入你的成績：\"))\n",
    "\n",
    "# 進行成績判斷並給出評價\n",
    "if score >= 80 and score <= 100:\n",
    "    print(\"恭喜及格！\")\n",
    "    if score == 100:\n",
    "        print(\"太棒了！滿分100分！\")\n",
    "    elif score > 90:\n",
    "        print(\"好棒！成績很優秀！\")\n",
    "    else:\n",
    "        print(\"繼續保持！\")\n",
    "elif score >= 60 and score < 80:\n",
    "    print(\"及格，但還需再加油！\")\n",
    "else:\n",
    "    print(\"再加油！不及格！\")"
   ]
  },
  {
   "cell_type": "markdown",
   "metadata": {},
   "source": [
    ">或許打法不同，但是不代表做錯歐!\n",
    "畢竟每個人思路都不盡相同，程式打法也會有所差異!!\n",
    "即使想不出來也沒關係，可以參考內容再自己程式用自己打法嘗試一次。"
   ]
  },
  {
   "cell_type": "markdown",
   "metadata": {},
   "source": [
<<<<<<< HEAD
    "### 題目 2\n",
=======
 "### 題目 2\n",
>>>>>>> 795f7be305876eb37ac154dbed4393493dddc434
    "製作一個小遊戲讓使用者猜一個介於1到100之間的隨機數字。程式將提供提示，告訴使用者該數字是太高還是太低，直到他們猜對為止。"
   ]
  },
  {
   "cell_type": "code",
   "execution_count": null,
   "metadata": {},
   "outputs": [],
   "source": [
    "import random\n",
    "\n",
    "# 產生一個介於1到100之間的隨機數字\n",
    "target_number = random.randint(1, 100)\n",
    "\n",
    "# 初始化猜測次數\n",
    "guess_count = 0\n",
    "\n",
    "print(\"猜一個介於1到100之間的數字。\")\n",
    "\n",
    "while True:\n",
    "    try:\n",
    "        # 讓使用者輸入猜測的數字\n",
    "        guess = int(input(\"你的猜測：\"))\n",
    "        guess_count += 1\n",
    "\n",
    "        # 檢查猜測是否正確\n",
    "        if guess == target_number:\n",
    "            print(f\"恭喜你，你猜對了！答案是 {target_number}，你總共猜了 {guess_count} 次。\")\n",
    "            break\n",
    "        elif guess < target_number:\n",
    "            print(\"太低了，請再試一次。\")\n",
    "        else:\n",
    "            print(\"太高了，請再試一次。\")\n",
    "    except ValueError:\n",
    "        print(\"請輸入有效的整數。\")"
   ]
  }
 ],
 "metadata": {
  "kernelspec": {
   "display_name": "Python 3",
   "language": "python",
   "name": "python3"
  },
  "language_info": {
   "name": "python",
   "version": "3.8.7"
  },
  "orig_nbformat": 4
 },
 "nbformat": 4,
 "nbformat_minor": 2
}
