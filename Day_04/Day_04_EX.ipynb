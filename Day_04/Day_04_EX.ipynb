{
 "cells": [
  {
   "cell_type": "code",
   "execution_count": 28,
   "metadata": {},
   "outputs": [
    {
     "name": "stdout",
     "output_type": "stream",
     "text": [
      "你不是學生\n"
     ]
    }
   ],
   "source": [
    "student = 0  #要注意True與Flase的T與F都要是大寫\n",
    "if student :\n",
    "    print(\"你是學生\")\n",
    "else :\n",
    "    print(\"你不是學生\")"
   ]
  },
  {
   "cell_type": "code",
   "execution_count": 61,
   "metadata": {},
   "outputs": [
    {
     "name": "stdout",
     "output_type": "stream",
     "text": [
      "符合資格\n"
     ]
    }
   ],
   "source": [
    "age = int(input(\"輸入年齡\"))\n",
    "height = int(input(\"輸入身高\"))\n",
    "if age > 18 and height >=  180 :\n",
    "    print(\"符合資格\")\n",
    "\n",
    "else :\n",
    "    print(\"資格不符\")\n",
    "    "
   ]
  },
  {
   "cell_type": "code",
   "execution_count": 44,
   "metadata": {},
   "outputs": [
    {
     "name": "stdout",
     "output_type": "stream",
     "text": [
      "資格不符\n"
     ]
    }
   ],
   "source": [
    "\n",
    "stud = input(\"是否有學生證 輸入y/n \")\n",
    "zstud = input(\"是否有在學證明 輸入y/n\")\n",
    "\n",
    "if stud == \"y\" or zstud == \"y\" :\n",
    "    print(\"符合資格\")\n",
    "else :\n",
    "    print(\"資格不符\")"
   ]
  },
  {
   "cell_type": "code",
   "execution_count": 65,
   "metadata": {},
   "outputs": [
    {
     "name": "stdout",
     "output_type": "stream",
     "text": [
      "符合資格\n"
     ]
    }
   ],
   "source": [
    "age1 = int(input(\"輸入年齡\"))\n",
    "if not age1 == 18 :\n",
    "    print(\"非18歲禁止申辦\")\n",
    "else :\n",
    "    print(\"符合資格\")"
   ]
  },
  {
   "cell_type": "code",
   "execution_count": 67,
   "metadata": {},
   "outputs": [
    {
     "name": "stdout",
     "output_type": "stream",
     "text": [
      "蘋果\n",
      "蘋果\n",
      "香蕉\n",
      "蘋果\n",
      "櫻桃\n",
      "蘋果\n"
     ]
    }
   ],
   "source": [
    "fruits = [\"蘋果\", \"香蕉\", \"櫻桃\"]\n",
    "for fruit in fruits:\n",
    "    print(fruit)\n",
    "    "
   ]
  },
  {
   "cell_type": "code",
   "execution_count": null,
   "metadata": {},
   "outputs": [],
   "source": [
    "text = \"你好\"\n",
    "for char in text:\n",
    "    print(char)"
   ]
  },
  {
   "cell_type": "code",
   "execution_count": null,
   "metadata": {},
   "outputs": [],
   "source": [
    "person = {\"名字\": \"愛麗絲\", \"年齡\": 30, \"城市\": \"紐約\"}\n",
    "for key, value in person.items():\n",
    "    print(f\"{key}: {value}\")"
   ]
  },
  {
   "cell_type": "code",
   "execution_count": null,
   "metadata": {},
   "outputs": [],
   "source": [
    "count = 0\n",
    "while count < 5:\n",
    "    print(f\"重複次數：{count}\")\n",
    "    count += 1"
   ]
  },
  {
   "cell_type": "code",
   "execution_count": null,
   "metadata": {},
   "outputs": [],
   "source": [
    "user_input = \"\"\n",
    "while user_input != \"exit\":\n",
    "    user_input = input(\"輸入文字（輸入'exit'以退出）：\")"
   ]
  },
  {
   "cell_type": "code",
   "execution_count": null,
   "metadata": {},
   "outputs": [],
   "source": []
  }
 ],
 "metadata": {
  "kernelspec": {
   "display_name": "Python 3",
   "language": "python",
   "name": "python3"
  },
  "language_info": {
   "codemirror_mode": {
    "name": "ipython",
    "version": 3
   },
   "file_extension": ".py",
   "mimetype": "text/x-python",
   "name": "python",
   "nbconvert_exporter": "python",
   "pygments_lexer": "ipython3",
   "version": "3.8.7"
  },
  "orig_nbformat": 4
 },
 "nbformat": 4,
 "nbformat_minor": 2
}
